{
 "cells": [
  {
   "cell_type": "code",
   "execution_count": null,
   "metadata": {},
   "outputs": [],
   "source": [
    "numbers = [5,2,3,4,5,4,6,7,8]"
   ]
  },
  {
   "cell_type": "code",
   "execution_count": null,
   "metadata": {},
   "outputs": [],
   "source": [
    "output = numbers.sort()\n",
    "print(output)  ## sort function doesn't return any value. it just sort the list\n"
   ]
  },
  {
   "cell_type": "code",
   "execution_count": 1,
   "metadata": {},
   "outputs": [
    {
     "name": "stdout",
     "output_type": "stream",
     "text": [
      "[2, 3, 4, 4, 5, 5, 6, 7, 8]\n"
     ]
    }
   ],
   "source": [
    "## correct syntax\n",
    "numbers = [5,2,3,4,5,4,6,7,8]\n",
    "numbers.sort()\n",
    "print(numbers)"
   ]
  },
  {
   "cell_type": "code",
   "execution_count": 2,
   "metadata": {},
   "outputs": [
    {
     "name": "stdout",
     "output_type": "stream",
     "text": [
      "None\n",
      "[2, 3, 4, 4, 5, 5, 6, 7, 8]\n"
     ]
    }
   ],
   "source": [
    "## Reverse the list\n",
    "\n",
    "numbers.reverse()\n",
    "print(numbers.reverse())   ## returns none value coz it just reverse the list not return any value\n",
    "print(numbers)             ## print the original list\n"
   ]
  },
  {
   "cell_type": "code",
   "execution_count": 3,
   "metadata": {},
   "outputs": [
    {
     "name": "stdout",
     "output_type": "stream",
     "text": [
      "[2, 3, 4, 4, 5, 5, 6, 7, 8]\n",
      "[2, 3, 4, 4, 5, 5, 6, 7, 8, 10]\n"
     ]
    }
   ],
   "source": [
    "## copy the list\n",
    "\n",
    "numbers2 = numbers.copy()\n",
    "numbers.append(10)\n",
    "print(numbers2)            \n",
    "print(numbers)            ## original list is appended and copy is same"
   ]
  },
  {
   "cell_type": "raw",
   "metadata": {},
   "source": [
    "Write a Python program to Count Total Number of Words in a String with a practical example."
   ]
  },
  {
   "cell_type": "code",
   "execution_count": 10,
   "metadata": {},
   "outputs": [
    {
     "name": "stdin",
     "output_type": "stream",
     "text": [
      "Enter the string::  Write a Python program to Count Total Number of Words in a String with a practical example.\n"
     ]
    },
    {
     "name": "stdout",
     "output_type": "stream",
     "text": [
      "17\n",
      "['Write', 'a', 'Python', 'program', 'to', 'Count', 'Total', 'Number', 'of', 'Words', 'in', 'a', 'String', 'with', 'a', 'practical', 'example.']\n"
     ]
    }
   ],
   "source": [
    "##Using split function\n",
    "\n",
    "string1 = input(\"Enter the string:: \")\n",
    "string2 = string1.split(' ')\n",
    "\n",
    "output = []\n",
    "series = []\n",
    "count = 0\n",
    "for i in string2:\n",
    "    count = count + 1\n",
    "    output.append(i)\n",
    "    \n",
    "    \n",
    "print(count)\n",
    "print(output)"
   ]
  },
  {
   "cell_type": "code",
   "execution_count": 25,
   "metadata": {},
   "outputs": [
    {
     "name": "stdin",
     "output_type": "stream",
     "text": [
      "Enter the string::  This python program allows the user to enter a string (or character array). Next, it counts the total number of words present inside this string using For Loop.  Here, we used Python For Loop to iterate each character in a String. Inside the For Loop, we used the If statement to check where there is a space or not. If it finds the empty space, then total words count incremented.\n"
     ]
    },
    {
     "name": "stdout",
     "output_type": "stream",
     "text": [
      "\n",
      "\n",
      "total number of characters excluding spaces:: 311\n",
      "total number of characters including spaces:: 381\n"
     ]
    }
   ],
   "source": [
    "## Using for loop\n",
    "\n",
    "string1 = input(\"Enter the string:: \")\n",
    "\n",
    "count = 0\n",
    "total = 0\n",
    "for i in string1:\n",
    "    if (i == \" \" or i == \"\\n\" or i == \"\\t\"):\n",
    "        continue\n",
    "    else:\n",
    "        count = count + 1\n",
    "        \n",
    "for j in string1:\n",
    "    total = total + 1\n",
    "\n",
    "print('\\n')\n",
    "print(f'total number of characters excluding spaces:: {count}')\n",
    "print(f'total number of characters including spaces:: {total}')"
   ]
  },
  {
   "cell_type": "code",
   "execution_count": 6,
   "metadata": {},
   "outputs": [
    {
     "name": "stdin",
     "output_type": "stream",
     "text": [
      "Enter the string::  This python program allows the user to enter a string (or character array). Next, it counts the total number of words present inside this string using For Loop.  Here, we used Python For Loop to iterate each character in a String. Inside the For Loop, we used the If statement to check where there is a space or not. If it finds the empty space, then total words count incremented.\n"
     ]
    },
    {
     "name": "stdout",
     "output_type": "stream",
     "text": [
      "\n",
      "total number of characters:: 381\n"
     ]
    }
   ],
   "source": [
    "## using len function\n",
    "\n",
    "string1 = input(\"Enter the string:: \")\n",
    "\n",
    "count = 0\n",
    "for i in range(len(string1)):\n",
    "    count = count + 1\n",
    "print(f'\\ntotal number of characters:: {count}')\n",
    "\n",
    "    \n",
    "    \n",
    "\n"
   ]
  },
  {
   "cell_type": "code",
   "execution_count": null,
   "metadata": {},
   "outputs": [],
   "source": []
  },
  {
   "cell_type": "markdown",
   "metadata": {},
   "source": [
    "Python Program to Count Occurrence of a Character in a String.\n",
    "\n",
    "This python program allows you to enter a string and a character."
   ]
  },
  {
   "cell_type": "code",
   "execution_count": 13,
   "metadata": {},
   "outputs": [
    {
     "name": "stdin",
     "output_type": "stream",
     "text": [
      "Enter the string::  Write a Python Program to Count Occurrence of a Character in a String with a practical example.  TIP: Please refer String article to understand everything about Strings. Python Program to Count Occurrence of a Character in a String Example 1  This python program allows you to enter a string and a character.\n",
      "Enter the character you want to search in above string::  to\n"
     ]
    },
    {
     "name": "stdout",
     "output_type": "stream",
     "text": [
      "Total number of 'to' in the given string is : 4\n",
      "Total number of 'to' in the given string is : 0\n"
     ]
    }
   ],
   "source": [
    "string = input(\"Enter the string:: \")\n",
    "characters = input(\"Enter the character you want to search in above string:: \")\n",
    "\n",
    "                                            ## using for loop \n",
    "count = 0\n",
    "for i in string:\n",
    "    if i == characters:\n",
    "        count = count + 1\n",
    "\n",
    "        \n",
    "                                            ## using count function\n",
    "output = string.count(\"to\")\n",
    "\n",
    "print(f\"Total number of '{characters}' in the given string is : {output}\")        \n",
    "print(f\"Total number of '{characters}' in the given string is : {count}\")"
   ]
  },
  {
   "cell_type": "code",
   "execution_count": null,
   "metadata": {},
   "outputs": [],
   "source": []
  }
 ],
 "metadata": {
  "kernelspec": {
   "display_name": "Python 3",
   "language": "python",
   "name": "python3"
  },
  "language_info": {
   "codemirror_mode": {
    "name": "ipython",
    "version": 3
   },
   "file_extension": ".py",
   "mimetype": "text/x-python",
   "name": "python",
   "nbconvert_exporter": "python",
   "pygments_lexer": "ipython3",
   "version": "3.7.6"
  }
 },
 "nbformat": 4,
 "nbformat_minor": 4
}
